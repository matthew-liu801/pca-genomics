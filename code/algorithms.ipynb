{
 "cells": [
  {
   "cell_type": "code",
   "execution_count": 2,
   "metadata": {},
   "outputs": [],
   "source": [
    "import numpy as np \n",
    "import msprime\n",
    "from scipy import linalg, stats\n",
    "import utils\n",
    "\n",
    "np.random.seed(42)"
   ]
  },
  {
   "cell_type": "markdown",
   "metadata": {},
   "source": [
    "## Setup: read in data and simulate data"
   ]
  },
  {
   "cell_type": "code",
   "execution_count": 5,
   "metadata": {},
   "outputs": [],
   "source": [
    "# Real data from 1000 genomes project\n",
    "G = np.load(\"../processed_data/ALL.chr21.phase3_shapeit2_mvncall_integrated_v5b.20130502.genotypes.npz\")['arr_0']\n",
    "svd_data = np.load(\"../processed_data/ALL.chr21.phase3_shapeit2_mvncall_integrated_v5b.20130502.genotypes)_SVD.npz\")\n",
    "\n",
    "U, S, Vt = svd_data[\"U\"], svd_data[\"S\"], svd_data[\"Vt\"]"
   ]
  },
  {
   "cell_type": "code",
   "execution_count": 6,
   "metadata": {},
   "outputs": [],
   "source": [
    "# We simulate data of various sizes, sequence lengths, and sparsities\n",
    "sample_sizes = [10**x for x in range(2, 5)]\n",
    "sequence_lengths = [10**x for x in range(2, 8)]\n",
    "mutation_rates = [10**(-x) for x in range(1, 10)] #lower mutation rate = sparser\n",
    "recombination_rates = [10**(-x) for x in range(1, 10)] #lower recombination rate = sparser\n",
    "\n",
    "G_simulated = {}\n",
    "\n",
    "for n in sample_sizes:\n",
    "    for length in sequence_lengths:\n",
    "        for mut_rate in mutation_rates:\n",
    "            for recomb_rate in recombination_rates:\n",
    "                G = utils.simulate_diploid_genotypes(n, length, mut_rate, recomb_rate)\n",
    "                G_simulated[(n, length, mut_rate, recomb_rate)] = G"
   ]
  },
  {
   "cell_type": "code",
   "execution_count": null,
   "metadata": {},
   "outputs": [],
   "source": [
    "# Save simulated data\n",
    "data_dir = \"../processed_data\"\n",
    "for (params, G) in G_simulated.items():\n",
    "    file_name = f\"{params[0]}_{params[1]}_{params[2]}_{params[3]}.genotypes.npz\"\n",
    "    np.savez_compressed(f\"{data_dir}/{file_name}\", G)"
   ]
  },
  {
   "cell_type": "markdown",
   "metadata": {},
   "source": [
    "## Darnell et al: ARSVD\n",
    "\n",
    "Paper: https://www.jmlr.org/papers/volume18/15-143/15-143.pdf \n",
    "\n",
    "Implementation: https://github.com/gdarnell/arsvd/blob/master/dimension_reduction.py \n"
   ]
  },
  {
   "cell_type": "code",
   "execution_count": 3,
   "metadata": {},
   "outputs": [],
   "source": [
    "def rsvd(X, dstar, power_iters=2, delta=10):\n",
    "\t\"\"\" Perform rsvd algorithm on input matrix.\n",
    "\t\tMethod must be supplied dstar.\n",
    "\t\tReturns truncated svd (U,S,V).\n",
    "\tParameters\n",
    "\t----------\n",
    "\tX : int matrix\n",
    "    \tMatrix of n x m integers, where m <= n. If n < m,\n",
    "    \tmatrix will be transposed to enforce m <= n.\n",
    "   \tdstar : int\n",
    "   \t\tThe latent (underlying) matrix rank that will be\n",
    "   \t\tused to truncate the larger dimension (m).\n",
    "   \tpower_iters : int\n",
    "   \t\tdefault: 2\n",
    "   \t\tNumber of power iterations used (random matrix multiplications)\n",
    "   \tdelta : int\n",
    "   \t\tdefault: 10\n",
    "   \t\toversampling parameter (to improve numerical stability)\n",
    "    Returns\n",
    "\t-------\n",
    "\tint matrix\n",
    "    \tMatrix of left singular vectors.\n",
    "    int matrix\n",
    "    \tMatrix of singular values.\n",
    "    int matrix\n",
    "    \tMatrix of right singular vectors.\n",
    "    \"\"\"\n",
    "\ttranspose = False \n",
    "\tif X.shape[0] < X.shape[1]:\n",
    "\t\tX = X.T \n",
    "\t\ttranspose = True \n",
    "\n",
    "\tif power_iters < 1:\n",
    "\t\tpower_iters = 1\n",
    "\n",
    "\t# follows manuscript notation as closely as possible\n",
    "\tP = np.random.randn(X.shape[0],dstar+delta)\t\n",
    "\tfor i in range(power_iters):\n",
    "\t\tP = np.dot(X.T,P)\n",
    "\t\tP = np.dot(X,P)\n",
    "\tQ,R = np.linalg.qr(P)\n",
    "\tB = np.dot(Q.T,X)\n",
    "\tU,S,V = linalg.svd(B)\n",
    "\tU = np.dot(Q, U)\n",
    "\n",
    "\t# Remove extra dimensionality incurred by delta\n",
    "\tU = U[:, 0:dstar]\n",
    "\tS = S[0:dstar]\n",
    "\n",
    "\treturn V.T, S, U.T if transpose else U, S, V\n",
    "\n",
    "\n",
    "def stabilityMeasure(X, d_max, B=5, power_iters=2):\n",
    "\t\"\"\" Calculate stability of \n",
    "\tParameters\n",
    "\t----------\n",
    "\tX : int matrix\n",
    "\t\tinput matrix to determine rank of\n",
    "\td_max : int\n",
    "\t\tupper bound rank to estimate\n",
    "\tB : int\n",
    "\t\tdefault: 5\n",
    "\t\tnumber of projections to correlate\n",
    "\tpower_iters : int\n",
    "\t\tdefault: 2\n",
    "   \t\tNumber of power iterations used (random matrix multiplications)\n",
    "\tReturns\n",
    "\t-------\n",
    "\tint\n",
    "\t\tLatent (lower-dimensional) matrix rank\n",
    "\t\"\"\"\n",
    "\tsingular_basis = np.zeros((B,X.shape[0],d_max))\n",
    "\t# calculate singular basis under multiple projections\n",
    "\tfor i in range(B):\n",
    "\t\tU = rsvd(X,d_max)[0]\n",
    "\t\tsingular_basis[i,:,:] = U[:,0:d_max]\n",
    "\n",
    "\t# calculate score for each singular vector\n",
    "\tstability_vec = np.zeros((d_max))\n",
    "\tfor k in range(d_max):\n",
    "\t\tstability = 0\n",
    "\t\tfor i in range(0,B-1):\n",
    "\t\t\tfor j in range(i+1,B):\n",
    "\t\t\t\tcorr = stats.spearmanr(singular_basis[i,:,k],singular_basis[j,:,k])[0]\n",
    "\t\t\t\tstability = stability + abs(corr)\n",
    "\t\tN = B*(B-1)/2\n",
    "\t\tstability = stability/N\n",
    "\t\tstability_vec[k] = stability\n",
    "\n",
    "\t# wilcoxon rank-sum test p-values\n",
    "\tp_vals = np.zeros(d_max-2)\n",
    "\tfor k in range(2,d_max):\n",
    "\t\tp_vals[k-2] = stats.ranksums(stability_vec[0:k-1],stability_vec[k-1:d_max])[1]\n",
    "\n",
    "\tdstar = np.argmin(p_vals)\n",
    "\t\n",
    "\treturn dstar"
   ]
  },
  {
   "cell_type": "markdown",
   "metadata": {},
   "source": [
    "## Saibaba et al: GSVD\n",
    "\n",
    "Paper: https://www.osti.gov/servlets/purl/1769894 "
   ]
  },
  {
   "cell_type": "code",
   "execution_count": null,
   "metadata": {},
   "outputs": [],
   "source": [
    "def gsvd():\n",
    "    "
   ]
  }
 ],
 "metadata": {
  "kernelspec": {
   "display_name": "base",
   "language": "python",
   "name": "python3"
  },
  "language_info": {
   "codemirror_mode": {
    "name": "ipython",
    "version": 3
   },
   "file_extension": ".py",
   "mimetype": "text/x-python",
   "name": "python",
   "nbconvert_exporter": "python",
   "pygments_lexer": "ipython3",
   "version": "3.11.5"
  }
 },
 "nbformat": 4,
 "nbformat_minor": 2
}
