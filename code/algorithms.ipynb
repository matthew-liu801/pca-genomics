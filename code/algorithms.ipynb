{
 "cells": [
  {
   "cell_type": "code",
   "execution_count": 1,
   "metadata": {},
   "outputs": [],
   "source": [
    "import numpy as np \n",
    "import msprime\n",
    "from scipy import linalg, stats\n",
    "import utils\n",
    "import matplotlib.pyplot as plt \n",
    "import seaborn as sns \n",
    "import pysam\n",
    "\n",
    "np.random.seed(42)"
   ]
  },
  {
   "cell_type": "markdown",
   "metadata": {},
   "source": [
    "# Setup"
   ]
  },
  {
   "cell_type": "markdown",
   "metadata": {},
   "source": [
    "## Simulate data and clean real data"
   ]
  },
  {
   "cell_type": "code",
   "execution_count": null,
   "metadata": {},
   "outputs": [],
   "source": [
    "# Clean old data\n",
    "\n",
    "vcf_path = \"raw_data/ALL.chr21.phase3_shapeit2_mvncall_integrated_v5b.20130502.genotypes.vcf.gz\"\n",
    "vcf_file = pysam.VariantFile(vcf_path)\n",
    "\n",
    "records = [record for record in vcf_file.fetch()]\n",
    "\n",
    "\n",
    "# Filter data\n",
    "\n",
    "#16 minutes: 154k observations\n",
    "filtered_by_maf = utils.filter_maf(records)\n",
    "#2 minutes: no change\n",
    "filtered_by_missingness = utils.filter_missingness(filtered_by_maf)\n",
    "#13 seconds: no change\n",
    "filtered_by_quality = utils.filter_quality(filtered_by_missingness)\n",
    "\n",
    "records = filtered_by_quality\n",
    "\n",
    "# Getting the number of samples and SNPs\n",
    "num_samples = len(vcf_file.header.samples)\n",
    "num_snps = len(records)\n",
    "\n",
    "# Create an empty genotype matrix\n",
    "G = np.empty((num_samples, num_snps), dtype=int)\n",
    "\n",
    "# Fill the matrix\n",
    "for j, record in enumerate(records):\n",
    "    for i, sample in enumerate(vcf_file.header.samples):\n",
    "        genotype = record.samples[sample].allele_indices\n",
    "        # Biallelic SNPs\n",
    "        if genotype == (0, 0):\n",
    "            G[i][j] = 0\n",
    "        elif genotype in [(0, 1), (1, 0)]:\n",
    "            G[i][j] = 1\n",
    "        else:\n",
    "            G[i][j] = 2\n",
    "\n",
    "\n",
    "U, S, Vt = np.linalg.svd(G, full_matrices = False)\n",
    "\n",
    "np.savez_compressed(\"../processed_data/real/ALL.chr21.phase3_shapeit2_mvncall_integrated_v5b.20130502.genotypes)_SVD.npz\", U = U, S = S, Vt = Vt)\n",
    "np.savez_compressed(\"../processed_data/real/ALL.chr21.phase3_shapeit2_mvncall_integrated_v5b.20130502.genotypes.npz\", G)"
   ]
  },
  {
   "cell_type": "code",
   "execution_count": 2,
   "metadata": {},
   "outputs": [],
   "source": [
    "# We simulate data of various sizes, sequence lengths, and sparsities\n",
    "sample_sizes = [50, 200, 1000, 10000]\n",
    "sequence_lengths = [1000, 5000, 10000, 20000]\n",
    "mutation_rates = [1e-6, 1e-8, 1e-10, 1e-12] #lower mutation rate = sparser\n",
    "recombination_rate = 1e-7\n",
    "\n",
    "G_simulated = {}\n",
    "\n",
    "for n in sample_sizes:\n",
    "    for length in sequence_lengths:\n",
    "        for mut_rate in mutation_rates:\n",
    "            G = utils.simulate_diploid_genotypes(n, length, mut_rate, recombination_rate)\n",
    "            G_simulated[(n, length, mut_rate)] = G"
   ]
  },
  {
   "cell_type": "code",
   "execution_count": 14,
   "metadata": {},
   "outputs": [],
   "source": [
    "# Save simulated data\n",
    "data_dir = \"../processed_data/simulated\"\n",
    "for (params, G) in G_simulated.items():\n",
    "    file_name = f\"{params[0]}_{params[1]}_{params[2]}.genotypes.npz\"\n",
    "    np.savez_compressed(f\"{data_dir}/{file_name}\", G)"
   ]
  },
  {
   "cell_type": "markdown",
   "metadata": {},
   "source": [
    "## Summary Statistics "
   ]
  },
  {
   "cell_type": "code",
   "execution_count": 37,
   "metadata": {},
   "outputs": [],
   "source": [
    "# Real data from 1000 genomes project\n",
    "G = np.load(\"../processed_data/real/ALL.chr21.phase3_shapeit2_mvncall_integrated_v5b.20130502.genotypes.npz\")['arr_0']\n",
    "svd_data = np.load(\"../processed_data/real/ALL.chr21.phase3_shapeit2_mvncall_integrated_v5b.20130502.genotypes)_SVD.npz\")\n",
    "\n",
    "U, S, Vt = svd_data[\"U\"], svd_data[\"S\"], svd_data[\"Vt\"]"
   ]
  },
  {
   "cell_type": "code",
   "execution_count": 5,
   "metadata": {},
   "outputs": [],
   "source": [
    "# Load simulated data\n",
    "\n",
    "sample_sizes = [50, 200, 1000, 10000]\n",
    "sequence_lengths = [1000, 5000, 10000, 20000]\n",
    "mutation_rates = [1e-6, 1e-8, 1e-10, 1e-12] #lower mutation rate = sparser\n",
    "recombination_rate = 1e-7\n",
    "\n",
    "G_simulated = {}\n",
    "\n",
    "simulated_dir = \"../processed_data/simulated/\"\n",
    "for n in sample_sizes:\n",
    "    for length in sequence_lengths:\n",
    "        for mut_rate in mutation_rates:\n",
    "            file_name = f\"{n}_{length}_{mut_rate}.genotypes.npz\"\n",
    "            file_dir = simulated_dir + file_name \n",
    "            G = np.load(file_dir)[\"arr_0\"]\n",
    "            G_simulated[(n, length, mut_rate)] = G"
   ]
  },
  {
   "cell_type": "code",
   "execution_count": 7,
   "metadata": {},
   "outputs": [
    {
     "data": {
      "text/plain": [
       "array([], shape=(0, 50), dtype=int64)"
      ]
     },
     "execution_count": 7,
     "metadata": {},
     "output_type": "execute_result"
    }
   ],
   "source": [
    "G_simulated[(50, 1000, 1e-8)]"
   ]
  },
  {
   "cell_type": "code",
   "execution_count": 3,
   "metadata": {},
   "outputs": [
    {
     "ename": "ZeroDivisionError",
     "evalue": "division by zero",
     "output_type": "error",
     "traceback": [
      "\u001b[0;31m---------------------------------------------------------------------------\u001b[0m",
      "\u001b[0;31mZeroDivisionError\u001b[0m                         Traceback (most recent call last)",
      "Cell \u001b[0;32mIn[3], line 2\u001b[0m\n\u001b[1;32m      1\u001b[0m \u001b[38;5;66;03m# Calculate sparsity statistics\u001b[39;00m\n\u001b[0;32m----> 2\u001b[0m G_simulated_props \u001b[38;5;241m=\u001b[39m {key: utils\u001b[38;5;241m.\u001b[39mcount_genotypes(G_simulated[key]) \u001b[38;5;28;01mfor\u001b[39;00m key \u001b[38;5;129;01min\u001b[39;00m G_simulated\u001b[38;5;241m.\u001b[39mkeys()}\n",
      "Cell \u001b[0;32mIn[3], line 2\u001b[0m, in \u001b[0;36m<dictcomp>\u001b[0;34m(.0)\u001b[0m\n\u001b[1;32m      1\u001b[0m \u001b[38;5;66;03m# Calculate sparsity statistics\u001b[39;00m\n\u001b[0;32m----> 2\u001b[0m G_simulated_props \u001b[38;5;241m=\u001b[39m {key: utils\u001b[38;5;241m.\u001b[39mcount_genotypes(G_simulated[key]) \u001b[38;5;28;01mfor\u001b[39;00m key \u001b[38;5;129;01min\u001b[39;00m G_simulated\u001b[38;5;241m.\u001b[39mkeys()}\n",
      "File \u001b[0;32m~/Desktop/Classes/math221/project/code/utils.py:108\u001b[0m, in \u001b[0;36mcount_genotypes\u001b[0;34m(G)\u001b[0m\n\u001b[1;32m     97\u001b[0m \u001b[38;5;250m\u001b[39m\u001b[38;5;124;03m\"\"\" \u001b[39;00m\n\u001b[1;32m     98\u001b[0m \u001b[38;5;124;03mCounts the percentages of genotypes corresponding to 0, 1, 2 (homozygous dominant, heterozygous, homozygous recessive).\u001b[39;00m\n\u001b[1;32m     99\u001b[0m \n\u001b[0;32m   (...)\u001b[0m\n\u001b[1;32m    104\u001b[0m \u001b[38;5;124;03m- (zeros, ones, twos): tuple of floats corresponding to percentages of each genotype\u001b[39;00m\n\u001b[1;32m    105\u001b[0m \u001b[38;5;124;03m\"\"\"\u001b[39;00m\n\u001b[1;32m    106\u001b[0m (m, n) \u001b[38;5;241m=\u001b[39m G\u001b[38;5;241m.\u001b[39mshape\n\u001b[0;32m--> 108\u001b[0m zeros \u001b[38;5;241m=\u001b[39m np\u001b[38;5;241m.\u001b[39mcount_nonzero(G \u001b[38;5;241m==\u001b[39m \u001b[38;5;241m0\u001b[39m)\u001b[38;5;241m/\u001b[39m(m \u001b[38;5;241m*\u001b[39m n)\n\u001b[1;32m    109\u001b[0m ones \u001b[38;5;241m=\u001b[39m np\u001b[38;5;241m.\u001b[39mcount_nonzero(G \u001b[38;5;241m==\u001b[39m \u001b[38;5;241m1\u001b[39m)\u001b[38;5;241m/\u001b[39m(m \u001b[38;5;241m*\u001b[39m n)\n\u001b[1;32m    110\u001b[0m twos \u001b[38;5;241m=\u001b[39m np\u001b[38;5;241m.\u001b[39mcount_nonzero(G \u001b[38;5;241m==\u001b[39m \u001b[38;5;241m2\u001b[39m)\u001b[38;5;241m/\u001b[39m(m \u001b[38;5;241m*\u001b[39m n)\n",
      "\u001b[0;31mZeroDivisionError\u001b[0m: division by zero"
     ]
    }
   ],
   "source": [
    "# Calculate sparsity statistics\n",
    "G_simulated_props = {key: utils.count_genotypes(G_simulated[key]) for key in G_simulated.keys()}\n"
   ]
  },
  {
   "cell_type": "markdown",
   "metadata": {},
   "source": [
    "# Algorithms"
   ]
  },
  {
   "cell_type": "markdown",
   "metadata": {},
   "source": [
    "## Darnell et al: ARSVD\n",
    "\n",
    "Paper: https://www.jmlr.org/papers/volume18/15-143/15-143.pdf \n",
    "\n",
    "Implementation: https://github.com/gdarnell/arsvd/blob/master/dimension_reduction.py \n"
   ]
  },
  {
   "cell_type": "code",
   "execution_count": 11,
   "metadata": {},
   "outputs": [],
   "source": [
    "def rsvd(X, dstar, power_iters=2, delta=10):\n",
    "\t\"\"\" Perform rsvd algorithm on input matrix.\n",
    "\t\tMethod must be supplied dstar.\n",
    "\t\tReturns truncated svd (U,S,V).\n",
    "\tParameters\n",
    "\t----------\n",
    "\tX : int matrix\n",
    "    \tMatrix of n x m integers, where m <= n. If n < m,\n",
    "    \tmatrix will be transposed to enforce m <= n.\n",
    "   \tdstar : int\n",
    "   \t\tThe latent (underlying) matrix rank that will be\n",
    "   \t\tused to truncate the larger dimension (m).\n",
    "   \tpower_iters : int\n",
    "   \t\tdefault: 2\n",
    "   \t\tNumber of power iterations used (random matrix multiplications)\n",
    "   \tdelta : int\n",
    "   \t\tdefault: 10\n",
    "   \t\toversampling parameter (to improve numerical stability)\n",
    "    Returns\n",
    "\t-------\n",
    "\tint matrix\n",
    "    \tMatrix of left singular vectors.\n",
    "    int matrix\n",
    "    \tMatrix of singular values.\n",
    "    int matrix\n",
    "    \tMatrix of right singular vectors.\n",
    "    \"\"\"\n",
    "\ttranspose = False \n",
    "\tif X.shape[0] < X.shape[1]:\n",
    "\t\tX = X.T \n",
    "\t\ttranspose = True \n",
    "\n",
    "\tif power_iters < 1:\n",
    "\t\tpower_iters = 1\n",
    "\n",
    "\t# follows manuscript notation as closely as possible\n",
    "\tP = np.random.randn(X.shape[0],dstar+delta)\t\n",
    "\tfor i in range(power_iters):\n",
    "\t\tP = np.dot(X.T,P)\n",
    "\t\tP = np.dot(X,P)\n",
    "\tQ,R = np.linalg.qr(P)\n",
    "\tB = np.dot(Q.T,X)\n",
    "\tU,S,V = linalg.svd(B)\n",
    "\tU = np.dot(Q, U)\n",
    "\n",
    "\t# Remove extra dimensionality incurred by delta\n",
    "\tU = U[:, 0:dstar]\n",
    "\tS = S[0:dstar]\n",
    "\n",
    "\treturn V.T, S, U.T if transpose else U, S, V\n",
    "\n",
    "\n",
    "def stabilityMeasure(X, d_max, B=5, power_iters=2):\n",
    "\t\"\"\" Calculate stability of \n",
    "\tParameters\n",
    "\t----------\n",
    "\tX : int matrix\n",
    "\t\tinput matrix to determine rank of\n",
    "\td_max : int\n",
    "\t\tupper bound rank to estimate\n",
    "\tB : int\n",
    "\t\tdefault: 5\n",
    "\t\tnumber of projections to correlate\n",
    "\tpower_iters : int\n",
    "\t\tdefault: 2\n",
    "   \t\tNumber of power iterations used (random matrix multiplications)\n",
    "\tReturns\n",
    "\t-------\n",
    "\tint\n",
    "\t\tLatent (lower-dimensional) matrix rank\n",
    "\t\"\"\"\n",
    "\tsingular_basis = np.zeros((B,X.shape[0],d_max))\n",
    "\t# calculate singular basis under multiple projections\n",
    "\tfor i in range(B):\n",
    "\t\tU = rsvd(X,d_max)[0]\n",
    "\t\tsingular_basis[i,:,:] = U[:,0:d_max]\n",
    "\n",
    "\t# calculate score for each singular vector\n",
    "\tstability_vec = np.zeros((d_max))\n",
    "\tfor k in range(d_max):\n",
    "\t\tstability = 0\n",
    "\t\tfor i in range(0,B-1):\n",
    "\t\t\tfor j in range(i+1,B):\n",
    "\t\t\t\tcorr = stats.spearmanr(singular_basis[i,:,k],singular_basis[j,:,k])[0]\n",
    "\t\t\t\tstability = stability + abs(corr)\n",
    "\t\tN = B*(B-1)/2\n",
    "\t\tstability = stability/N\n",
    "\t\tstability_vec[k] = stability\n",
    "\n",
    "\t# wilcoxon rank-sum test p-values\n",
    "\tp_vals = np.zeros(d_max-2)\n",
    "\tfor k in range(2,d_max):\n",
    "\t\tp_vals[k-2] = stats.ranksums(stability_vec[0:k-1],stability_vec[k-1:d_max])[1]\n",
    "\n",
    "\tdstar = np.argmin(p_vals)\n",
    "\t\n",
    "\treturn dstar"
   ]
  },
  {
   "cell_type": "markdown",
   "metadata": {},
   "source": [
    "## Saibaba et al: GSVD\n",
    "\n",
    "Paper: https://www.osti.gov/servlets/purl/1769894 "
   ]
  },
  {
   "cell_type": "code",
   "execution_count": null,
   "metadata": {},
   "outputs": [],
   "source": [
    "def gsvd():\n",
    "    pass "
   ]
  },
  {
   "cell_type": "markdown",
   "metadata": {},
   "source": [
    "# Benchmarking"
   ]
  },
  {
   "cell_type": "code",
   "execution_count": null,
   "metadata": {},
   "outputs": [],
   "source": [
    "# Values for k\n",
    "k_vals = [1, 2, 3, 5, 10, 20, 30]"
   ]
  }
 ],
 "metadata": {
  "kernelspec": {
   "display_name": "base",
   "language": "python",
   "name": "python3"
  },
  "language_info": {
   "codemirror_mode": {
    "name": "ipython",
    "version": 3
   },
   "file_extension": ".py",
   "mimetype": "text/x-python",
   "name": "python",
   "nbconvert_exporter": "python",
   "pygments_lexer": "ipython3",
   "version": "3.11.5"
  }
 },
 "nbformat": 4,
 "nbformat_minor": 2
}
